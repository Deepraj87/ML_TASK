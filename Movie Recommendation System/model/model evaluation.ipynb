{
 "cells": [
  {
   "cell_type": "markdown",
   "id": "6171178a-1e23-4c56-a040-c00eac4f1e71",
   "metadata": {},
   "source": [
    "# Model Evaluation"
   ]
  },
  {
   "cell_type": "markdown",
   "id": "9b61b131-7424-49b4-aff2-6d735a7ab231",
   "metadata": {},
   "source": [
    "## 1) Importing Required Librarires"
   ]
  },
  {
   "cell_type": "code",
   "execution_count": 1,
   "id": "f672ac6b-2878-41f6-b619-0148c524929a",
   "metadata": {},
   "outputs": [],
   "source": [
    "import numpy as np\n",
    "import pandas as pd\n",
    "import matplotlib as mb\n",
    "import seaborn as sns\n",
    "from sklearn.model_selection import train_test_split\n",
    "from mlxtend.plotting import plot_confusion_matrix\n",
    "from sklearn.metrics import classification_report, confusion_matrix"
   ]
  },
  {
   "cell_type": "markdown",
   "id": "a3ccd57e-e5ff-4a73-af2c-8b90b76c5d0a",
   "metadata": {},
   "source": [
    "## 2) Loading our trained model and preprocessed dataset"
   ]
  },
  {
   "cell_type": "code",
   "execution_count": 2,
   "id": "b4cfe970-e96e-4bbd-8e16-1bbf6a6528a6",
   "metadata": {},
   "outputs": [
    {
     "data": {
      "text/html": [
       "<div>\n",
       "<style scoped>\n",
       "    .dataframe tbody tr th:only-of-type {\n",
       "        vertical-align: middle;\n",
       "    }\n",
       "\n",
       "    .dataframe tbody tr th {\n",
       "        vertical-align: top;\n",
       "    }\n",
       "\n",
       "    .dataframe thead th {\n",
       "        text-align: right;\n",
       "    }\n",
       "</style>\n",
       "<table border=\"1\" class=\"dataframe\">\n",
       "  <thead>\n",
       "    <tr style=\"text-align: right;\">\n",
       "      <th></th>\n",
       "      <th>movie_id</th>\n",
       "      <th>title</th>\n",
       "    </tr>\n",
       "  </thead>\n",
       "  <tbody>\n",
       "    <tr>\n",
       "      <th>0</th>\n",
       "      <td>19995</td>\n",
       "      <td>Avatar</td>\n",
       "    </tr>\n",
       "    <tr>\n",
       "      <th>1</th>\n",
       "      <td>285</td>\n",
       "      <td>Pirates of the Caribbean: At World's End</td>\n",
       "    </tr>\n",
       "  </tbody>\n",
       "</table>\n",
       "</div>"
      ],
      "text/plain": [
       "   movie_id                                     title\n",
       "0     19995                                    Avatar\n",
       "1       285  Pirates of the Caribbean: At World's End"
      ]
     },
     "execution_count": 2,
     "metadata": {},
     "output_type": "execute_result"
    }
   ],
   "source": [
    "dataset = pd.read_csv(r\"preprocessed_data.csv\")\n",
    "dataset.head(2)"
   ]
  },
  {
   "cell_type": "code",
   "execution_count": 3,
   "id": "4abf53b5-ea82-4745-a176-b15762dbec9c",
   "metadata": {},
   "outputs": [],
   "source": [
    "cosine_sim = np.load(\"trained model.npy\")"
   ]
  },
  {
   "cell_type": "markdown",
   "id": "7ee61ead-163f-4e44-a763-d3f9e8c5f07c",
   "metadata": {},
   "source": [
    "## 3) Spliting the dataset into test-train data for evaluation"
   ]
  },
  {
   "cell_type": "code",
   "execution_count": 4,
   "id": "b20125b2-015f-4755-8ffe-2d42b20ccca3",
   "metadata": {},
   "outputs": [],
   "source": [
    "train, test = train_test_split(dataset, test_size=0.2, random_state=42)"
   ]
  },
  {
   "cell_type": "code",
   "execution_count": 5,
   "id": "d2321711-9ac8-40b0-bdd9-eae852998b98",
   "metadata": {},
   "outputs": [
    {
     "data": {
      "text/plain": [
       "((3844, 2), (962, 2))"
      ]
     },
     "execution_count": 5,
     "metadata": {},
     "output_type": "execute_result"
    }
   ],
   "source": [
    "train.shape, test.shape"
   ]
  },
  {
   "cell_type": "code",
   "execution_count": 6,
   "id": "c342c9f7-7f71-480f-b79e-a4cc11cd7886",
   "metadata": {},
   "outputs": [
    {
     "data": {
      "text/plain": [
       "1214    Aliens vs Predator: Requiem\n",
       "2405                         Aliens\n",
       "507                Independence Day\n",
       "3728                  Falcon Rising\n",
       "539                      Titan A.E.\n",
       "Name: title, dtype: object"
      ]
     },
     "execution_count": 6,
     "metadata": {},
     "output_type": "execute_result"
    }
   ],
   "source": [
    "# Function for movie recommendation\n",
    "def get_recommendations(title, cosine_sim):\n",
    "    idx = dataset[dataset['title'] == title].index[0]\n",
    "    sim_scores = list(enumerate(cosine_sim[idx]))\n",
    "    sim_scores = sorted(sim_scores, key=lambda x: x[1], reverse=True)\n",
    "    sim_scores = sim_scores[1:6]  # Get the top 10 recommendations\n",
    "    movie_indices = [i[0] for i in sim_scores]\n",
    "    return dataset['title'].iloc[movie_indices]\n",
    "get_recommendations('Avatar',cosine_sim)"
   ]
  },
  {
   "cell_type": "code",
   "execution_count": 7,
   "id": "1a11fe0d-aae6-4853-a814-1420a9638a23",
   "metadata": {},
   "outputs": [],
   "source": [
    "# Function to evaluate the recommendations\n",
    "def evaluate_recommendations(test, cosine_sim):\n",
    "    y_true = []\n",
    "    y_pred = []\n",
    "\n",
    "    for idx, row in test.iterrows():\n",
    "        title = row['title']\n",
    "        actual_movies = test['title'].tolist()\n",
    "        recommended_movies = get_recommendations(title, cosine_sim)\n",
    "        \n",
    "        # Create binary relevance labels\n",
    "        for movie in actual_movies:\n",
    "            y_true.append(1 if movie == title else 0)\n",
    "            y_pred.append(1 if movie in recommended_movies.values else 0)\n",
    "    \n",
    "    return y_true, y_pred"
   ]
  },
  {
   "cell_type": "code",
   "execution_count": 8,
   "id": "58f6bd74-0a93-4d5c-a767-71c28bb19ffd",
   "metadata": {},
   "outputs": [
    {
     "name": "stdout",
     "output_type": "stream",
     "text": [
      "              precision    recall  f1-score   support\n",
      "\n",
      "           0       1.00      1.00      1.00    924480\n",
      "           1       0.01      0.01      0.01       964\n",
      "\n",
      "    accuracy                           1.00    925444\n",
      "   macro avg       0.50      0.50      0.50    925444\n",
      "weighted avg       1.00      1.00      1.00    925444\n",
      "\n"
     ]
    }
   ],
   "source": [
    "# Evaluate the model\n",
    "y_true, y_pred = evaluate_recommendations(test, cosine_sim)\n",
    "\n",
    "# Generate classification report and confusion matrix\n",
    "report = classification_report(y_true, y_pred, zero_division=0)\n",
    "cm = confusion_matrix(y_true, y_pred)\n",
    "\n",
    "print(report)"
   ]
  },
  {
   "cell_type": "code",
   "execution_count": 9,
   "id": "59031964-1eb6-4f11-8183-997251fe3508",
   "metadata": {},
   "outputs": [
    {
     "name": "stdout",
     "output_type": "stream",
     "text": [
      "[[923608    872]\n",
      " [   959      5]]\n"
     ]
    }
   ],
   "source": [
    "print(cm)"
   ]
  },
  {
   "cell_type": "markdown",
   "id": "5ad91b38-3d6e-4c6e-9a2b-50535c1fea62",
   "metadata": {},
   "source": [
    "## 4) Ploting the confusion_matrix"
   ]
  },
  {
   "cell_type": "code",
   "execution_count": 10,
   "id": "e1512621-61c8-4274-af2b-bc62e265834a",
   "metadata": {},
   "outputs": [
    {
     "data": {
      "image/png": "[encoded data removed]",
      "text/plain": [
       "<Figure size 700x500 with 2 Axes>"
      ]
     },
     "metadata": {},
     "output_type": "display_data"
    }
   ],
   "source": [
    "fig, ax = plot_confusion_matrix(conf_mat=cm,norm_colormap=mb.colors.LogNorm(), colorbar= True, figsize=(7,5))  "
   ]
  },
  {
   "cell_type": "code",
   "execution_count": 11,
   "id": "14a94772-56ca-41ce-baab-5866a454bbc5",
   "metadata": {},
   "outputs": [],
   "source": [
    "# Saving our Model"
   ]
  },
  {
   "cell_type": "code",
   "execution_count": 12,
   "id": "0d1c463f-e319-4e4d-acaf-e2dbf2944640",
   "metadata": {},
   "outputs": [],
   "source": [
    "import pickle\n",
    "dataset.to_pickle(\"movies_info.pkl\")\n",
    "# Open a file and use dump()\n",
    "with open('sim_score.pkl', 'wb') as file: \n",
    "      \n",
    "    # A new file will be created \n",
    "    pickle.dump(cosine_sim, file) "
   ]
  }
 ],
 "metadata": {
  "kernelspec": {
   "display_name": "Python 3 (ipykernel)",
   "language": "python",
   "name": "python3"
  },
  "language_info": {
   "codemirror_mode": {
    "name": "ipython",
    "version": 3
   },
   "file_extension": ".py",
   "mimetype": "text/x-python",
   "name": "python",
   "nbconvert_exporter": "python",
   "pygments_lexer": "ipython3",
   "version": "3.12.4"
  }
 },
 "nbformat": 4,
 "nbformat_minor": 5
}
