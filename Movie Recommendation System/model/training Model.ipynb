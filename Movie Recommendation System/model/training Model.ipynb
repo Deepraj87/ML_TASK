{
 "cells": [
  {
   "cell_type": "markdown",
   "id": "11ad0e21-0f8a-4b0a-95c4-079c27d071c4",
   "metadata": {},
   "source": [
    "# Model Training"
   ]
  },
  {
   "cell_type": "markdown",
   "id": "311b0980-d20b-41e6-bcf2-53d3b4aa37c9",
   "metadata": {},
   "source": [
    "## 1) Importing Required libraries"
   ]
  },
  {
   "cell_type": "code",
   "execution_count": 1,
   "id": "80d90b63-c771-4a3f-b085-d3e659464ce0",
   "metadata": {},
   "outputs": [],
   "source": [
    "import numpy as np \n",
    "import pandas as pd\n",
    "from sklearn.metrics.pairwise import cosine_similarity"
   ]
  },
  {
   "cell_type": "markdown",
   "id": "4caae1c4-0fe2-4d8c-bb43-db9aca7ec15b",
   "metadata": {},
   "source": [
    "## 2)Loading our preprocessed data"
   ]
  },
  {
   "cell_type": "code",
   "execution_count": 2,
   "id": "94142232-28ef-4069-a5eb-08da81fbede2",
   "metadata": {},
   "outputs": [
    {
     "data": {
      "text/html": [
       "<div>\n",
       "<style scoped>\n",
       "    .dataframe tbody tr th:only-of-type {\n",
       "        vertical-align: middle;\n",
       "    }\n",
       "\n",
       "    .dataframe tbody tr th {\n",
       "        vertical-align: top;\n",
       "    }\n",
       "\n",
       "    .dataframe thead th {\n",
       "        text-align: right;\n",
       "    }\n",
       "</style>\n",
       "<table border=\"1\" class=\"dataframe\">\n",
       "  <thead>\n",
       "    <tr style=\"text-align: right;\">\n",
       "      <th></th>\n",
       "      <th>movie_id</th>\n",
       "      <th>title</th>\n",
       "    </tr>\n",
       "  </thead>\n",
       "  <tbody>\n",
       "    <tr>\n",
       "      <th>0</th>\n",
       "      <td>19995</td>\n",
       "      <td>Avatar</td>\n",
       "    </tr>\n",
       "    <tr>\n",
       "      <th>1</th>\n",
       "      <td>285</td>\n",
       "      <td>Pirates of the Caribbean: At World's End</td>\n",
       "    </tr>\n",
       "  </tbody>\n",
       "</table>\n",
       "</div>"
      ],
      "text/plain": [
       "   movie_id                                     title\n",
       "0     19995                                    Avatar\n",
       "1       285  Pirates of the Caribbean: At World's End"
      ]
     },
     "execution_count": 2,
     "metadata": {},
     "output_type": "execute_result"
    }
   ],
   "source": [
    "dataset = pd.read_csv(r\"preprocessed_data.csv\")\n",
    "dataset.head(2)"
   ]
  },
  {
   "cell_type": "code",
   "execution_count": 3,
   "id": "ddad7597-6cf1-4d35-bd3b-2a52b9ca8d8b",
   "metadata": {},
   "outputs": [],
   "source": [
    "encoded_data = np.load(\"encoded_data.npy\")"
   ]
  },
  {
   "cell_type": "markdown",
   "id": "25d94574-b991-4b74-a96c-4d0943f6455a",
   "metadata": {},
   "source": [
    "## 3)Model Training using cosine_similarity"
   ]
  },
  {
   "cell_type": "code",
   "execution_count": 4,
   "id": "4f017a8d-1241-4509-a5e4-ee27ba0eb649",
   "metadata": {},
   "outputs": [],
   "source": [
    "cs = cosine_similarity(encoded_data)"
   ]
  },
  {
   "cell_type": "markdown",
   "id": "851dc7b8-614d-42f1-a390-4e59c9501038",
   "metadata": {},
   "source": [
    "## 4)Saving the trained model"
   ]
  },
  {
   "cell_type": "code",
   "execution_count": 5,
   "id": "ee36ddf7-b134-45d2-9f93-e0fc47589a63",
   "metadata": {},
   "outputs": [],
   "source": [
    "np.save(\"trained model.npy\", cs)"
   ]
  },
  {
   "cell_type": "markdown",
   "id": "ab494c9a-74c9-4f3c-95c4-9e71748204da",
   "metadata": {},
   "source": [
    "## 5) Exploring the trained model"
   ]
  },
  {
   "cell_type": "code",
   "execution_count": 6,
   "id": "d96396f3-5be9-454a-a773-e1390505ede1",
   "metadata": {},
   "outputs": [
    {
     "data": {
      "text/plain": [
       "array([1.        , 0.08346223, 0.08740748, ..., 0.04415108, 0.02271554,\n",
       "       0.        ])"
      ]
     },
     "execution_count": 6,
     "metadata": {},
     "output_type": "execute_result"
    }
   ],
   "source": [
    "cs[0]"
   ]
  },
  {
   "cell_type": "code",
   "execution_count": 7,
   "id": "2d8b4287-d6de-4619-a1a6-27d19c5f3167",
   "metadata": {},
   "outputs": [
    {
     "data": {
      "text/plain": [
       "[(1214, 0.2773026999924509),\n",
       " (2405, 0.26600795837367097),\n",
       " (507, 0.255608593705383),\n",
       " (3728, 0.25391668753850405),\n",
       " (539, 0.2503866978335957)]"
      ]
     },
     "execution_count": 7,
     "metadata": {},
     "output_type": "execute_result"
    }
   ],
   "source": [
    "sorted(list(enumerate(cs[0])),key=lambda x:x[1], reverse=True)[1:6]"
   ]
  },
  {
   "cell_type": "code",
   "execution_count": 8,
   "id": "03e5e935-fa68-41f1-a5df-e6114ab97e39",
   "metadata": {},
   "outputs": [
    {
     "data": {
      "text/plain": [
       "0"
      ]
     },
     "execution_count": 8,
     "metadata": {},
     "output_type": "execute_result"
    }
   ],
   "source": [
    "dataset[dataset['title']=='Avatar'].index[0]"
   ]
  },
  {
   "cell_type": "code",
   "execution_count": 9,
   "id": "358ef14c-f64c-4f53-88b4-3cf34b771b88",
   "metadata": {},
   "outputs": [],
   "source": [
    "# Function for recommendation\n",
    "def recommend(movie):\n",
    "    index = dataset[dataset['title'] == movie].index[0]\n",
    "    distances = sorted(list(enumerate(cs[index])),reverse=True,key = lambda x: x[1])\n",
    "    for i in distances[1:6]:\n",
    "        print(dataset.iloc[i[0]].title)"
   ]
  },
  {
   "cell_type": "code",
   "execution_count": 10,
   "id": "863cb198-1387-43bb-9c1f-42668484f361",
   "metadata": {},
   "outputs": [
    {
     "name": "stdout",
     "output_type": "stream",
     "text": [
      "The Dark Knight Rises\n",
      "Batman Begins\n",
      "Batman Returns\n",
      "Batman Forever\n",
      "Batman\n"
     ]
    }
   ],
   "source": [
    "recommend(\"The Dark Knight\")"
   ]
  }
 ],
 "metadata": {
  "kernelspec": {
   "display_name": "Python 3 (ipykernel)",
   "language": "python",
   "name": "python3"
  },
  "language_info": {
   "codemirror_mode": {
    "name": "ipython",
    "version": 3
   },
   "file_extension": ".py",
   "mimetype": "text/x-python",
   "name": "python",
   "nbconvert_exporter": "python",
   "pygments_lexer": "ipython3",
   "version": "3.12.4"
  }
 },
 "nbformat": 4,
 "nbformat_minor": 5
}
