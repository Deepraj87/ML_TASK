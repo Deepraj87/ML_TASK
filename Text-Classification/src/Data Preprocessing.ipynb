{
 "cells": [
  {
   "cell_type": "markdown",
   "id": "ebc19b68-84af-42bf-8060-24e4a11fc192",
   "metadata": {},
   "source": [
    "# Text Classification Using Naive Bayes"
   ]
  },
  {
   "cell_type": "markdown",
   "id": "58e74dae-a680-4a2a-8a43-bd5c725cae2a",
   "metadata": {},
   "source": [
    "### Life cycle of Machine learning Project\n",
    "\n",
    "-  Understanding the Problem Statement\n",
    "-  Data Collection\n",
    "-  Data Checks to perform\n",
    "-  Exploratory data analysis\n",
    "-  Data Pre-Processing\n",
    "-  Model Training\n",
    "-  Choose best model"
   ]
  },
  {
   "cell_type": "markdown",
   "id": "01c49ac0-26f8-4f8c-b2c1-edbbe7aff0e5",
   "metadata": {},
   "source": [
    "## 1) Problem statement\n",
    "\n",
    "-  Develop a text classification model using Naive Bayes algorithm to categorize documents and domains into their respective newsgroups based on 20 Newsgroups dataset."
   ]
  },
  {
   "cell_type": "markdown",
   "id": "e354017b-1029-4e73-9cb6-b1cdb155644a",
   "metadata": {},
   "source": [
    "## 2) Data Collection\n",
    "-  Dataset Source - https://www.kaggle.com/datasets/crawford/20-newsgroups\n",
    "-  The data consists of approximately 20,000 newsgroup documents partitioned across 20 different news categoried column"
   ]
  },
  {
   "cell_type": "markdown",
   "id": "ddde6dd7-1c0a-4f0a-a6fb-f0c5f04f8809",
   "metadata": {},
   "source": [
    "### 2.1 Import Data and Required Packages\n",
    "**Importing Pandas, Numpy, Matplotlib, Seaborn and scikit-learn library**"
   ]
  },
  {
   "cell_type": "code",
   "execution_count": 1,
   "id": "8be62c92-4c0d-4e92-9efd-81d595649615",
   "metadata": {},
   "outputs": [],
   "source": [
    "import numpy as np\n",
    "import string\n",
    "from nltk.tokenize import word_tokenize\n",
    "from nltk.corpus import stopwords\n",
    "import matplotlib.pyplot as plt\n",
    "from sklearn.feature_extraction.text import TfidfVectorizer\n",
    "from sklearn.datasets import fetch_20newsgroups"
   ]
  },
  {
   "cell_type": "markdown",
   "id": "e075823e-4bb3-4df2-8348-0549174f6f53",
   "metadata": {},
   "source": [
    "**Importing the data from sklearn**"
   ]
  },
  {
   "cell_type": "code",
   "execution_count": 2,
   "id": "ab5b414c-0e29-4389-9fa3-d34e15e4918d",
   "metadata": {},
   "outputs": [],
   "source": [
    "data = fetch_20newsgroups()"
   ]
  },
  {
   "cell_type": "markdown",
   "id": "eec9bdf5-d28d-4a37-b3b2-c768d6653629",
   "metadata": {},
   "source": [
    "**Test-Train data spliting**"
   ]
  },
  {
   "cell_type": "code",
   "execution_count": 3,
   "id": "0cd4877e-551e-42e0-ac33-cbbb35e36dd0",
   "metadata": {},
   "outputs": [],
   "source": [
    "categories = ['sci.med','sci.space','talk.politics.misc','rec.sport.baseball']\n",
    "train_data = fetch_20newsgroups(subset =\"train\", categories= categories, shuffle = True)\n",
    "test_data = fetch_20newsgroups(subset =\"test\", categories= categories, shuffle = True)"
   ]
  },
  {
   "cell_type": "markdown",
   "id": "c6cc96ef-0e07-4718-8b7c-5892f3dfe4d9",
   "metadata": {},
   "source": [
    "**Shape of the train test data**"
   ]
  },
  {
   "cell_type": "code",
   "execution_count": 4,
   "id": "3fb073ca-acaa-497f-b8ff-74c2bd640c0d",
   "metadata": {},
   "outputs": [
    {
     "data": {
      "text/plain": [
       "([2249], [1497])"
      ]
     },
     "execution_count": 4,
     "metadata": {},
     "output_type": "execute_result"
    }
   ],
   "source": [
    "list(train_data.filenames.shape), list(test_data.filenames.shape)"
   ]
  },
  {
   "cell_type": "code",
   "execution_count": 5,
   "id": "f1abe907-0f54-45de-a4bc-2a3a551bf104",
   "metadata": {},
   "outputs": [
    {
     "data": {
      "text/plain": [
       "['sci.med', 'sci.space', 'talk.politics.misc', 'rec.sport.baseball']"
      ]
     },
     "execution_count": 5,
     "metadata": {},
     "output_type": "execute_result"
    }
   ],
   "source": [
    "categories"
   ]
  },
  {
   "cell_type": "markdown",
   "id": "d12e2fe6-37b8-4a70-9980-ea4d097633cc",
   "metadata": {},
   "source": [
    "## 2.2 Dataset information\n",
    "-  Contains 4 categories of news.\n",
    "    -  sci.mad\n",
    "    -  sci.space\n",
    "    -  talk.politics\n",
    "    -  sports.baseball"
   ]
  },
  {
   "cell_type": "markdown",
   "id": "56f29dae-0502-49e1-9969-9e22e4183ffe",
   "metadata": {},
   "source": [
    "## 3) Data Checks to perform\n",
    "-  Check the various categories present in the the dataset\n",
    "-  Check statistics of data set\n",
    "  "
   ]
  },
  {
   "cell_type": "markdown",
   "id": "313d8703-7c39-4ffd-ba95-6e5ed46b9cc1",
   "metadata": {},
   "source": [
    "### 3.1 Check the various categories present in the the dataset"
   ]
  },
  {
   "cell_type": "code",
   "execution_count": 6,
   "id": "5c3fc26f-7482-4b90-bbef-91edc6e053da",
   "metadata": {},
   "outputs": [
    {
     "data": {
      "text/plain": [
       "(['rec.sport.baseball', 'sci.med', 'sci.space', 'talk.politics.misc'],\n",
       " ['rec.sport.baseball', 'sci.med', 'sci.space', 'talk.politics.misc'])"
      ]
     },
     "execution_count": 6,
     "metadata": {},
     "output_type": "execute_result"
    }
   ],
   "source": [
    "list(train_data.target_names), list(test_data.target_names)"
   ]
  },
  {
   "cell_type": "markdown",
   "id": "ddd9ae00-0daa-4ade-b8df-5af5fb2c88f9",
   "metadata": {},
   "source": [
    "### 3.2 Check statistics of data set"
   ]
  },
  {
   "cell_type": "code",
   "execution_count": 7,
   "id": "d605fac7-bcc0-4e40-9d86-7420daf5d9d2",
   "metadata": {},
   "outputs": [
    {
     "data": {
      "text/plain": [
       "(array([0, 1, 2, 3]), array([597, 594, 593, 465]))"
      ]
     },
     "execution_count": 7,
     "metadata": {},
     "output_type": "execute_result"
    }
   ],
   "source": [
    "categories, frequency_train = np.unique(train_data.target, return_counts=True)\n",
    "categories, frequency_train"
   ]
  },
  {
   "cell_type": "markdown",
   "id": "f7aee9ce-d2be-44c2-9051-aa5771f7af83",
   "metadata": {},
   "source": [
    "## 4) Exploring Data ( Visualization )"
   ]
  },
  {
   "cell_type": "code",
   "execution_count": 8,
   "id": "1fc0da03-3d29-448a-85e6-dd031acf4aca",
   "metadata": {},
   "outputs": [],
   "source": [
    "categories = np.array(train_data.target_names)"
   ]
  },
  {
   "cell_type": "code",
   "execution_count": 9,
   "id": "e0765b87-207d-4e72-b3e0-22abff83547f",
   "metadata": {},
   "outputs": [
    {
     "data": {
      "image/png": "[encoded data removed]",
      "text/plain": [
       "<Figure size 480x320 with 1 Axes>"
      ]
     },
     "metadata": {},
     "output_type": "display_data"
    }
   ],
   "source": [
    "plt.figure(figsize=(6,4), dpi=80, facecolor='w', edgecolor='k')\n",
    "plt.bar(categories, frequency_train)\n",
    "plt.title(\"Class Distribution of 20 Newsgroup Training Data\")\n",
    "plt.xlabel(\"News Group\")\n",
    "plt.ylabel(\"Frequency\")\n",
    "plt.show()"
   ]
  },
  {
   "cell_type": "code",
   "execution_count": 10,
   "id": "9bef0ce4-a1f4-4ab5-8f42-d3bbb954a42c",
   "metadata": {},
   "outputs": [],
   "source": [
    "categories, frequency_test= np.unique(test_data.target, return_counts=True)\n",
    "categories = np.array(test_data.target_names)"
   ]
  },
  {
   "cell_type": "code",
   "execution_count": 11,
   "id": "328da7ea-45fc-4c7c-b0ed-a31f86c5556b",
   "metadata": {},
   "outputs": [
    {
     "data": {
      "image/png": "[encoded data removed]",
      "text/plain": [
       "<Figure size 480x320 with 1 Axes>"
      ]
     },
     "metadata": {},
     "output_type": "display_data"
    }
   ],
   "source": [
    "plt.figure(figsize=(6,4), dpi=80, facecolor='w', edgecolor='k')\n",
    "plt.bar(categories, frequency_test)\n",
    "plt.title(\"Class Distribution of 20 Newsgroup Testing Data\")\n",
    "plt.xlabel(\"News Group\")\n",
    "plt.ylabel(\"Frequency\")\n",
    "plt.show()"
   ]
  },
  {
   "cell_type": "markdown",
   "id": "387c823b-835c-406a-acfb-c4fed1a05bb8",
   "metadata": {},
   "source": [
    "## 5) Data Pre-preproocessing"
   ]
  },
  {
   "cell_type": "markdown",
   "id": "6114db00-0e6d-4df9-a15d-316da0aef859",
   "metadata": {},
   "source": [
    "### 5.1 Text Cleaning"
   ]
  },
  {
   "cell_type": "markdown",
   "id": "f75dc161-97d3-48b5-baa4-c590da9b0f0a",
   "metadata": {},
   "source": [
    "-  Tokenize the Text Data\n",
    "-  Remove Stopwords and Punctuation"
   ]
  },
  {
   "cell_type": "code",
   "execution_count": 12,
   "id": "9263290c-5849-470a-8105-f4eb2103b87a",
   "metadata": {},
   "outputs": [],
   "source": [
    "stop_words = set(stopwords.words('english'))\n",
    "punctuations = string.punctuation\n",
    "\n",
    "# Function to clean text\n",
    "def clean_text(text):\n",
    "    # Tokenize text\n",
    "    words = word_tokenize(text)\n",
    "    # Remove stopwords and punctuation\n",
    "    filtered_words = [word for word in words if word.lower() not in stop_words and word not in punctuations]\n",
    "    return ' '.join(filtered_words)\n",
    "\n",
    "# Apply the function to the training and testing data\n",
    "cleaned_train_texts = [clean_text(text) for text in train_data.data]\n",
    "cleaned_test_texts = [clean_text(text) for text in test_data.data]"
   ]
  },
  {
   "cell_type": "markdown",
   "id": "0489e459-4b46-40b2-b499-5562cbb1fa19",
   "metadata": {},
   "source": [
    "### 5.2 Text Encoding"
   ]
  },
  {
   "cell_type": "code",
   "execution_count": 13,
   "id": "5b00548d-4ac1-458f-8289-2ba1cf0e35c7",
   "metadata": {},
   "outputs": [],
   "source": [
    "tv = TfidfVectorizer()"
   ]
  },
  {
   "cell_type": "code",
   "execution_count": 14,
   "id": "08e743d5-9551-40a5-9a88-851f205a8cab",
   "metadata": {},
   "outputs": [],
   "source": [
    "\n",
    "# Encoding the train_data\n",
    "encoded_train_data = tv.fit_transform(cleaned_train_texts)\n",
    "\n",
    "# Encoding the test_data\n",
    "encoded_test_data = tv.fit_transform(cleaned_test_texts)"
   ]
  }
 ],
 "metadata": {
  "kernelspec": {
   "display_name": "Python 3 (ipykernel)",
   "language": "python",
   "name": "python3"
  },
  "language_info": {
   "codemirror_mode": {
    "name": "ipython",
    "version": 3
   },
   "file_extension": ".py",
   "mimetype": "text/x-python",
   "name": "python",
   "nbconvert_exporter": "python",
   "pygments_lexer": "ipython3",
   "version": "3.12.4"
  }
 },
 "nbformat": 4,
 "nbformat_minor": 5
}
