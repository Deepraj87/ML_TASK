{
 "cells": [
  {
   "cell_type": "markdown",
   "id": "492115ab-d99c-4936-aa7b-a301ee7efa83",
   "metadata": {},
   "source": [
    "## Model Training"
   ]
  },
  {
   "cell_type": "markdown",
   "id": "0e23bb31-56aa-48f6-b44e-6873e8124143",
   "metadata": {},
   "source": [
    "### Import Data and Required Packages"
   ]
  },
  {
   "cell_type": "code",
   "execution_count": 1,
   "id": "6f0e46ce-8aa4-4ab5-97aa-630c64b8444d",
   "metadata": {},
   "outputs": [],
   "source": [
    "from sklearn.pipeline import Pipeline\n",
    "from sklearn.feature_extraction.text import TfidfVectorizer\n",
    "from sklearn.naive_bayes import MultinomialNB\n",
    "from sklearn.datasets import fetch_20newsgroups"
   ]
  },
  {
   "cell_type": "markdown",
   "id": "3ffe8741-c305-4a6a-a500-25d1f9c37aa8",
   "metadata": {},
   "source": [
    "**Importing Data and Train_Test spliting**"
   ]
  },
  {
   "cell_type": "code",
   "execution_count": 2,
   "id": "488c0076-e72c-4518-91be-cdb91f130f0c",
   "metadata": {},
   "outputs": [],
   "source": [
    "data = fetch_20newsgroups()\n",
    "categories = ['sci.med','sci.space','talk.politics.misc','rec.sport.baseball']\n",
    "train_data = fetch_20newsgroups(subset =\"train\", categories= categories, shuffle = True)\n",
    "test_data = fetch_20newsgroups(subset =\"test\", categories= categories, shuffle = True)"
   ]
  },
  {
   "cell_type": "markdown",
   "id": "1b97b3cc-e459-4064-9e28-ebab2d6ed1c5",
   "metadata": {},
   "source": [
    "###  Training the Model"
   ]
  },
  {
   "cell_type": "code",
   "execution_count": 3,
   "id": "530052b8-f3cc-44c9-9869-4d9302965a50",
   "metadata": {},
   "outputs": [],
   "source": [
    "text_clf = Pipeline([('vect', TfidfVectorizer()), ('clf', MultinomialNB()) ])\n",
    "\n",
    "# train the model\n",
    "text_clf.fit(train_data.data, train_data.target)\n",
    "# Predict the test cases\n",
    "predicted = text_clf.predict(test_data.data)"
   ]
  }
 ],
 "metadata": {
  "kernelspec": {
   "display_name": "Python 3 (ipykernel)",
   "language": "python",
   "name": "python3"
  },
  "language_info": {
   "codemirror_mode": {
    "name": "ipython",
    "version": 3
   },
   "file_extension": ".py",
   "mimetype": "text/x-python",
   "name": "python",
   "nbconvert_exporter": "python",
   "pygments_lexer": "ipython3",
   "version": "3.12.4"
  }
 },
 "nbformat": 4,
 "nbformat_minor": 5
}
