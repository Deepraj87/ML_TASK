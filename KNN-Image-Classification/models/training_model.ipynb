{
 "cells": [
  {
   "cell_type": "markdown",
   "id": "6c7adbd7-dfc3-45cb-a5c5-883b4caa2bd8",
   "metadata": {},
   "source": [
    "# Model Training"
   ]
  },
  {
   "cell_type": "markdown",
   "id": "6e47755c-5957-4e29-84c5-eff8659c628d",
   "metadata": {},
   "source": [
    "**Importing Required Libraries**"
   ]
  },
  {
   "cell_type": "code",
   "execution_count": 1,
   "id": "6c7b4839-fee5-4ef9-8dc8-c05792fabe5e",
   "metadata": {},
   "outputs": [],
   "source": [
    "import numpy as np\n",
    "from sklearn.metrics import accuracy_score, precision_score, recall_score\n",
    "from sklearn.neighbors import KNeighborsClassifier\n",
    "import joblib"
   ]
  },
  {
   "cell_type": "markdown",
   "id": "66b168df-d12a-4d0b-9395-c31a19b624f1",
   "metadata": {},
   "source": [
    "**Loading Preprocessed Data**"
   ]
  },
  {
   "cell_type": "code",
   "execution_count": 2,
   "id": "4dd8fbfb-0026-4837-b3eb-d0760d8cd83e",
   "metadata": {},
   "outputs": [],
   "source": [
    "x_train = np.load('train_data.npy')\n",
    "y_train = np.load('train_labels.npy')\n",
    "x_test = np.load('test_data.npy')\n",
    "y_test = np.load('test_labels.npy')"
   ]
  },
  {
   "cell_type": "markdown",
   "id": "f1daafed-0979-4ae0-97ac-3b61c9e69a03",
   "metadata": {},
   "source": [
    "## KNN Implentation"
   ]
  },
  {
   "cell_type": "markdown",
   "id": "f721c3cc-f409-46f1-b1a0-29d02ce6ed73",
   "metadata": {},
   "source": [
    "**Train the model**"
   ]
  },
  {
   "cell_type": "code",
   "execution_count": 3,
   "id": "1a502313-9843-4557-8113-bcff3cf96b1e",
   "metadata": {},
   "outputs": [],
   "source": [
    "#Instantiate learning model (k = 3)\n",
    "classifier = KNeighborsClassifier(n_neighbors=3)\n",
    "\n",
    "# Fitting the model\n",
    "classifier.fit(x_train, y_train)\n",
    "\n",
    "# Predicting the Test set results\n",
    "y_pred = classifier.predict(x_test)"
   ]
  },
  {
   "cell_type": "markdown",
   "id": "72cddfae-2df5-47c2-9649-213ecd855fff",
   "metadata": {},
   "source": [
    "**Save the trained model**"
   ]
  },
  {
   "cell_type": "code",
   "execution_count": 4,
   "id": "a50c5e56-dcbd-4239-916e-8410995f92d5",
   "metadata": {},
   "outputs": [
    {
     "data": {
      "text/plain": [
       "['knn_model.joblib']"
      ]
     },
     "execution_count": 4,
     "metadata": {},
     "output_type": "execute_result"
    }
   ],
   "source": [
    "joblib.dump(classifier, 'knn_model.joblib')"
   ]
  },
  {
   "cell_type": "markdown",
   "id": "4a35a4fb-198d-406f-b2e6-78898e6a01c6",
   "metadata": {},
   "source": [
    "**Evalute the model**"
   ]
  },
  {
   "cell_type": "code",
   "execution_count": 5,
   "id": "1235b08a-516f-4d8a-899f-2a7e718fc002",
   "metadata": {},
   "outputs": [
    {
     "name": "stdout",
     "output_type": "stream",
     "text": [
      "Accuracy: 100.0 %\n",
      "Precision: 100.0\n",
      "Recall: 100.0\n"
     ]
    }
   ],
   "source": [
    "y_pred = classifier.predict(x_test)\n",
    "accuracy = accuracy_score(y_test, y_pred)\n",
    "precision = precision_score(y_test, y_pred, average='weighted')\n",
    "recall = recall_score(y_test, y_pred, average='weighted')\n",
    "\n",
    "print(f'Accuracy: {accuracy*100} %')\n",
    "print(f'Precision: {precision*100}')\n",
    "print(f'Recall: {recall*100}')"
   ]
  }
 ],
 "metadata": {
  "kernelspec": {
   "display_name": "Python 3 (ipykernel)",
   "language": "python",
   "name": "python3"
  },
  "language_info": {
   "codemirror_mode": {
    "name": "ipython",
    "version": 3
   },
   "file_extension": ".py",
   "mimetype": "text/x-python",
   "name": "python",
   "nbconvert_exporter": "python",
   "pygments_lexer": "ipython3",
   "version": "3.12.4"
  }
 },
 "nbformat": 4,
 "nbformat_minor": 5
}
